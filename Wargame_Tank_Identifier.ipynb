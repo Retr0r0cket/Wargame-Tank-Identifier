{
  "nbformat": 4,
  "nbformat_minor": 0,
  "metadata": {
    "colab": {
      "provenance": [],
      "authorship_tag": "ABX9TyOHs/xSnUgqKYJGwJR+QxvK",
      "include_colab_link": true
    },
    "kernelspec": {
      "name": "python3",
      "display_name": "Python 3"
    },
    "language_info": {
      "name": "python"
    }
  },
  "cells": [
    {
      "cell_type": "markdown",
      "metadata": {
        "id": "view-in-github",
        "colab_type": "text"
      },
      "source": [
        "<a href=\"https://colab.research.google.com/github/Retr0r0cket/Wargame-Tank-Identifier/blob/main/Wargame_Tank_Identifier.ipynb\" target=\"_parent\"><img src=\"https://colab.research.google.com/assets/colab-badge.svg\" alt=\"Open In Colab\"/></a>"
      ]
    },
    {
      "cell_type": "markdown",
      "source": [
        "Image Recognition Model"
      ],
      "metadata": {
        "id": "avhNN2EOC0SE"
      }
    },
    {
      "cell_type": "code",
      "execution_count": null,
      "metadata": {
        "id": "CoL3Lh0uCGsJ"
      },
      "outputs": [],
      "source": []
    },
    {
      "cell_type": "markdown",
      "source": [
        "Screenshot to Clipboard"
      ],
      "metadata": {
        "id": "4IdxSeaPC8au"
      }
    },
    {
      "cell_type": "code",
      "source": [],
      "metadata": {
        "id": "h87KjNo_DBb3"
      },
      "execution_count": null,
      "outputs": []
    }
  ]
}