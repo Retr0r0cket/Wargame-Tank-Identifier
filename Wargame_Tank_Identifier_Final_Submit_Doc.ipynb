{
  "nbformat": 4,
  "nbformat_minor": 0,
  "metadata": {
    "accelerator": "GPU",
    "colab": {
      "provenance": [],
      "include_colab_link": true
    },
    "kernelspec": {
      "display_name": "Python 3",
      "name": "python3"
    }
  },
  "cells": [
    {
      "cell_type": "markdown",
      "metadata": {
        "id": "view-in-github",
        "colab_type": "text"
      },
      "source": [
        "<a href=\"https://colab.research.google.com/github/Retr0r0cket/Wargame-Tank-Identifier/blob/main/Wargame_Tank_Identifier_Final_Submit_Doc.ipynb\" target=\"_parent\"><img src=\"https://colab.research.google.com/assets/colab-badge.svg\" alt=\"Open In Colab\"/></a>"
      ]
    },
    {
      "cell_type": "markdown",
      "metadata": {
        "id": "xzjeYEwjMxc1"
      },
      "source": [
        "## **Wargame:Tank Identifier**\n",
        "\n",
        "60 points\n",
        "\n"
      ]
    },
    {
      "cell_type": "markdown",
      "metadata": {
        "id": "fcRoTsByDa9N"
      },
      "source": [
        "### **Goals**\n",
        "1 - Create a program to automate image collection for tanks\n",
        "\n",
        "2 - Create a dataset of images and tank data\n",
        "\n",
        "3 - Train model with data, refine accuracy over time\n",
        "\n",
        "4 - Check model accuracy and test model with new data\n",
        "\n",
        "5 - Make model portable, have results reference tank CSV file and present better tank, Present solution"
      ]
    },
    {
      "cell_type": "markdown",
      "metadata": {
        "id": "d-NxhfD7D14b"
      },
      "source": [
        "### **Step 1 -** **Import libraries**\n"
      ]
    },
    {
      "cell_type": "code",
      "metadata": {
        "colab": {
          "base_uri": "https://localhost:8080/"
        },
        "id": "TOI2SZ7BDTzl",
        "outputId": "d76a865e-ec1d-4753-fea2-ecf231972cdf"
      },
      "source": [
        "import os\n",
        "import zipfile\n",
        "import random\n",
        "import tensorflow as tf\n",
        "print(tf.test.gpu_device_name())\n",
        "\n",
        "from tensorflow.keras.optimizers import RMSprop\n",
        "from tensorflow.keras.preprocessing.image import ImageDataGenerator\n",
        "from shutil import copyfile\n",
        "\n",
        "from PIL import ImageGrab, ImageShow, Image\n",
        "from configparser import ConfigParser\n",
        "from time import sleep\n",
        "\n",
        "import pandas as pd"
      ],
      "execution_count": null,
      "outputs": [
        {
          "output_type": "stream",
          "name": "stdout",
          "text": [
            "/device:GPU:0\n"
          ]
        }
      ]
    },
    {
      "cell_type": "markdown",
      "metadata": {
        "id": "cLPTag5vD6Lo"
      },
      "source": [
        "### **Step 2 -** **Take screen shots and grap them from clip board and put them into a folder**\n"
      ]
    },
    {
      "cell_type": "code",
      "source": [],
      "metadata": {
        "id": "wjX5bSNTATCV"
      },
      "execution_count": null,
      "outputs": []
    },
    {
      "cell_type": "markdown",
      "metadata": {
        "id": "FWZgWb4IARGM"
      },
      "source": [
        "### **Step 2 -** **Download tank images and tank statistics data sets**\n"
      ]
    },
    {
      "cell_type": "code",
      "metadata": {
        "id": "NZT2HYnJus28"
      },
      "source": [
        "\n"
      ],
      "execution_count": null,
      "outputs": []
    },
    {
      "cell_type": "markdown",
      "metadata": {
        "id": "tYNJFKlVq1T-"
      },
      "source": [
        "### **Step 3 - Create the training and validation set from images**\n"
      ]
    },
    {
      "cell_type": "code",
      "metadata": {
        "id": "ffAi4Ck3rvmw"
      },
      "source": [
        "\n",
        "\n"
      ],
      "execution_count": null,
      "outputs": []
    },
    {
      "cell_type": "markdown",
      "metadata": {
        "id": "tChXi5DVrBiV"
      },
      "source": [
        "### **Step 4 - Print five images from the dataset**\n",
        "\n"
      ]
    },
    {
      "cell_type": "code",
      "metadata": {
        "id": "CDPp3YWwwxBQ"
      },
      "source": [
        "\n",
        "\n"
      ],
      "execution_count": null,
      "outputs": []
    },
    {
      "cell_type": "markdown",
      "metadata": {
        "id": "UDZIF1P9rqR9"
      },
      "source": [
        "### **Step 5 - Load the existing VGG16 model and print model summary**\n",
        "\n"
      ]
    },
    {
      "cell_type": "code",
      "metadata": {
        "id": "Ao3_rSItwxKP"
      },
      "source": [
        "\n",
        "\n"
      ],
      "execution_count": null,
      "outputs": []
    },
    {
      "cell_type": "markdown",
      "metadata": {
        "id": "k16mUuM3r3y9"
      },
      "source": [
        "### **Step 6 - Define and compile our version of the model and print model summary**\n",
        "\n"
      ]
    },
    {
      "cell_type": "code",
      "metadata": {
        "id": "2fZSvrM8xsuw"
      },
      "source": [
        "\n",
        "\n"
      ],
      "execution_count": null,
      "outputs": []
    },
    {
      "cell_type": "markdown",
      "metadata": {
        "id": "INrTx7ShsYVK"
      },
      "source": [
        "### **Step 7 - Plot learning curves so we can analyze loss and accuracy**\n"
      ]
    },
    {
      "cell_type": "code",
      "metadata": {
        "id": "aefFjRq4sq3x"
      },
      "source": [
        "\n",
        "\n"
      ],
      "execution_count": null,
      "outputs": []
    },
    {
      "cell_type": "markdown",
      "metadata": {
        "id": "QN95aP1Us5kA"
      },
      "source": [
        "### **Step 8 - Train and save our version of the model**\n"
      ]
    },
    {
      "cell_type": "code",
      "metadata": {
        "id": "nQusWDjux_tI"
      },
      "source": [
        "\n",
        "import sys\n",
        "from matplotlib import pyplot\n",
        "from keras.utils import to_categorical\n",
        "from keras.applications.vgg16 import VGG16\n",
        "from keras.models import Model\n",
        "from keras.layers import Conv2D\n",
        "from keras.layers import MaxPooling2D\n",
        "from keras.layers import Dropout\n",
        "from keras.layers import Dense\n",
        "from keras.layers import Flatten\n",
        "from tensorflow.keras.optimizers import SGD\n",
        "from keras.preprocessing.image import ImageDataGenerator\n",
        "\n",
        "\n",
        "model = define_model()\n",
        "history = model.fit(train_generator, steps_per_epoch=len(train_generator),\n",
        "\t\tvalidation_data=validation_generator, validation_steps=len(validation_generator), epochs=8, verbose=1)\n",
        "\n",
        "\n"
      ],
      "execution_count": null,
      "outputs": []
    },
    {
      "cell_type": "markdown",
      "metadata": {
        "id": "22kZq5LstO2Q"
      },
      "source": [
        "### **Step 9 - Print the accuracy of our version of the model**\n"
      ]
    },
    {
      "cell_type": "code",
      "metadata": {
        "id": "vhwvRSZR2wVx"
      },
      "source": [
        "_, acc = model.evaluate(validation_generator, steps=len(validation_generator), verbose=0)\n",
        "print('> %.3f' % (acc * 100.0))\n"
      ],
      "execution_count": null,
      "outputs": []
    },
    {
      "cell_type": "markdown",
      "metadata": {
        "id": "rEVJPLn_tcH9"
      },
      "source": [
        "### **Step 10 - Summarize the performance of our model**\n",
        "\n"
      ]
    },
    {
      "cell_type": "code",
      "metadata": {
        "id": "MxSIJw4IPAMN"
      },
      "source": [
        "summarize_diagnostics(history)\n"
      ],
      "execution_count": null,
      "outputs": []
    },
    {
      "cell_type": "markdown",
      "metadata": {
        "id": "Th84IJj2ItTc"
      },
      "source": [
        "### **Step 11 - Check if our model categorizes correctly by uploading three test images and showing results**\n",
        "\n",
        "\n"
      ]
    },
    {
      "cell_type": "code",
      "metadata": {
        "id": "tTpQd1esI0h4"
      },
      "source": [
        "\n",
        "\n",
        "\n"
      ],
      "execution_count": null,
      "outputs": []
    },
    {
      "cell_type": "markdown",
      "metadata": {
        "id": "uIORgfzD7zdT"
      },
      "source": [
        "### **Step 12 - Put answer from image recognition model into algorithm to find a better tank**\n",
        "\n",
        "\n"
      ]
    },
    {
      "cell_type": "code",
      "metadata": {
        "id": "aZS7ivVL8AvY"
      },
      "source": [
        "\n",
        "\n",
        "\n"
      ],
      "execution_count": null,
      "outputs": []
    }
  ]
}